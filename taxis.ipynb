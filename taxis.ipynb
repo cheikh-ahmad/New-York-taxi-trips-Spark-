{
 "cells": [
  {
   "cell_type": "markdown",
   "id": "innocent-portrait",
   "metadata": {},
   "source": [
    "# New York taxis trips\n",
    "\n",
    "This homework is about New York taxi trips. Here is something from [Todd Schneider](https://toddwschneider.com/posts/analyzing-1-1-billion-nyc-taxi-and-uber-trips-with-a-vengeance/):\n",
    "\n",
    "> The New York City Taxi & Limousine Commission has released a  detailed historical dataset covering over 1 billion individual taxi trips in the city from January 2009 through December 2019. \n",
    "Taken as a whole, the detailed trip-level data is more than just a vast list of taxi pickup and drop off coordinates: it's a story of a City. \n",
    "How bad is the rush hour traffic from Midtown to JFK? \n",
    "Where does the Bridge and Tunnel crowd hang out on Saturday nights?\n",
    "What time do investment bankers get to work? How has Uber changed the landscape for taxis?\n",
    "The dataset addresses all of these questions and many more.\n",
    "\n",
    "The dataset is available from New York City Government:\n",
    "\n",
    "        https://www.nyc.gov/site/tlc/about/tlc-trip-record-data.page\n",
    "\n",
    "There is one parquet file for each NY taxi service (yellow, green, fhv) and each calendar\n",
    "month). Each file is moderately large (up to hundreds of megabytes). The full dataset is\n",
    "relatively large if it has to be handled on a laptop (several hundred gigabytes)"
   ]
  },
  {
   "cell_type": "code",
   "execution_count": null,
   "id": "naval-grenada",
   "metadata": {
    "ExecuteTime": {
     "end_time": "2023-05-03T04:35:36.430870Z",
     "start_time": "2023-05-03T04:35:36.427325Z"
    }
   },
   "outputs": [],
   "source": [
    "#!pip install nbconvert"
   ]
  },
  {
   "cell_type": "code",
   "execution_count": null,
   "id": "comparative-trading",
   "metadata": {
    "ExecuteTime": {
     "end_time": "2023-05-03T04:35:36.444883Z",
     "start_time": "2023-05-03T04:35:36.439550Z"
    }
   },
   "outputs": [],
   "source": [
    "#!pip install contextily"
   ]
  },
  {
   "cell_type": "code",
   "execution_count": null,
   "id": "devoted-classroom",
   "metadata": {
    "ExecuteTime": {
     "end_time": "2023-05-03T04:35:36.453179Z",
     "start_time": "2023-05-03T04:35:36.448205Z"
    }
   },
   "outputs": [],
   "source": [
    "#!pip install geojson geopandas plotly"
   ]
  },
  {
   "cell_type": "code",
   "execution_count": null,
   "id": "primary-regression",
   "metadata": {
    "ExecuteTime": {
     "end_time": "2023-05-03T04:35:36.461353Z",
     "start_time": "2023-05-03T04:35:36.457732Z"
    }
   },
   "outputs": [],
   "source": [
    "#!pip install ipyleaflet"
   ]
  },
  {
   "cell_type": "markdown",
   "id": "streaming-success",
   "metadata": {},
   "source": [
    "## Packages"
   ]
  },
  {
   "cell_type": "code",
   "execution_count": null,
   "id": "naked-penny",
   "metadata": {
    "ExecuteTime": {
     "end_time": "2023-05-03T04:46:26.482302Z",
     "start_time": "2023-05-03T04:46:26.474330Z"
    }
   },
   "outputs": [],
   "source": [
    "import os\n",
    "import urllib.request\n",
    "from pyspark import SparkConf, SparkContext\n",
    "from pyspark.sql import SparkSession\n",
    "from pyspark.sql import Window\n",
    "from pyspark.sql.functions import col\n",
    "import pyspark.sql.functions as fn\n",
    "from pyspark.sql.catalog import Catalog\n",
    "from pyspark.sql.types import StructType, StructField\n",
    "from pyspark.sql.types import IntegerType, StringType\n",
    "from pyspark.sql.functions import broadcast\n",
    "from pyspark.sql import functions as F\n",
    "from pyspark.sql.functions import dayofweek, hour, count\n",
    "import geopandas as gpd\n",
    "from matplotlib import pyplot as plt\n",
    "import plotly.express as px\n",
    "from plotly.subplots import make_subplots\n",
    "import pandas as pd\n",
    "from pyspark.sql.functions import avg\n",
    "from pyspark.sql.functions import unix_timestamp\n",
    "from pyspark.sql import DataFrame\n",
    "from pyspark.sql.functions import expr\n",
    "from pyspark.sql.functions import date_format, to_date\n",
    "import plotly.express as px"
   ]
  },
  {
   "cell_type": "markdown",
   "id": "civilian-teach",
   "metadata": {},
   "source": [
    "# Downloading data and Preparing spark"
   ]
  },
  {
   "cell_type": "code",
   "execution_count": null,
   "id": "aquatic-birth",
   "metadata": {
    "ExecuteTime": {
     "end_time": "2023-05-03T04:45:54.418550Z",
     "start_time": "2023-05-03T04:45:54.401160Z"
    }
   },
   "outputs": [],
   "source": [
    "def download_taxi_data(year, month, data_type):\n",
    "    base_url = \"https://d37ci6vzurychx.cloudfront.net/trip-data/\"\n",
    "    filename = f\"{data_type}_tripdata_{year}-{month:02d}.parquet\"\n",
    "    file_url = base_url + filename\n",
    "    fpath = filename\n",
    "\n",
    "    if os.path.exists(fpath):\n",
    "        print(f\"{filename} already exists!\")\n",
    "    else:\n",
    "        print(f\"Downloading {filename}...\")\n",
    "        urllib.request.urlretrieve(file_url, fpath)\n",
    "        print(f\"{filename} downloaded.\")\n",
    "        \n",
    "        \n",
    "years = [2019, 2020, 2021, 2022]\n",
    "months = [4,12]\n",
    "data_types = [\"yellow\", \"fhv\"]\n",
    "\n",
    "for year in years:\n",
    "    for month in months:\n",
    "        for data_type in data_types:\n",
    "            download_taxi_data(year, month, data_type)\n",
    "            "
   ]
  },
  {
   "cell_type": "code",
   "execution_count": null,
   "id": "tight-burning",
   "metadata": {
    "ExecuteTime": {
     "end_time": "2023-05-03T04:45:54.898172Z",
     "start_time": "2023-05-03T04:45:54.857240Z"
    }
   },
   "outputs": [],
   "source": [
    "conf = SparkConf()\n",
    "conf.set('spark.executor.memory', '8g')\n",
    "conf.set('spark.driver.memory', '8g')\n",
    "conf.set('spark.executor.cores','4')\n",
    "conf.set('spark.executor.instances', '10')\n",
    "conf.set('spark.default.parallelism', '40')\n",
    "conf.set('spark.driver.maxResultSize', '4g')\n",
    "\n",
    "spark = SparkSession.builder \\\n",
    "        .config(conf=conf) \\\n",
    "        .appName('NYC taxi') \\\n",
    "        .getOrCreate()\n"
   ]
  },
  {
   "cell_type": "code",
   "execution_count": null,
   "id": "least-motivation",
   "metadata": {
    "ExecuteTime": {
     "end_time": "2023-05-03T04:35:52.428782Z",
     "start_time": "2023-05-03T04:35:45.807514Z"
    }
   },
   "outputs": [],
   "source": [
    "dfs = {}\n",
    "\n",
    "for year in years:\n",
    "    for month in months:\n",
    "        for data_type in data_types:\n",
    "            filename = f\"{data_type}_tripdata_{year}-{month:02d}.parquet\"\n",
    "            df = spark.read.parquet(filename)\n",
    "            dfs[(year, month, data_type)] = df\n"
   ]
  },
  {
   "cell_type": "code",
   "execution_count": null,
   "id": "filled-mechanics",
   "metadata": {
    "ExecuteTime": {
     "end_time": "2023-05-03T04:35:56.758696Z",
     "start_time": "2023-05-03T04:35:52.431510Z"
    }
   },
   "outputs": [],
   "source": [
    "dfs[(2019,4,'yellow')].show(3)"
   ]
  },
  {
   "cell_type": "markdown",
   "id": "applied-locator",
   "metadata": {},
   "source": [
    "# Extracting Latitude and Longitude of Taxi Zones and adding it to the dataframe"
   ]
  },
  {
   "cell_type": "code",
   "execution_count": null,
   "id": "basic-abuse",
   "metadata": {
    "ExecuteTime": {
     "end_time": "2023-05-03T04:35:56.827959Z",
     "start_time": "2023-05-03T04:35:56.764232Z"
    }
   },
   "outputs": [],
   "source": [
    "import zipfile\n",
    "import io\n",
    "\n",
    "\n",
    "file_url = \"https://d37ci6vzurychx.cloudfront.net/misc/taxi_zones.zip\"\n",
    "\n",
    "fpath = \"taxi_zones.zip\"\n",
    "\n",
    "if os.path.exists(fpath):\n",
    "    print(f\"{filename} already exists!\")\n",
    "else:\n",
    "    print(f\"Downloading {filename}...\")\n",
    "    r=urllib.request.urlretrieve(file_url, fpath)\n",
    "    print(f\"{fpath} downloaded.\")\n",
    "    \n",
    "\n",
    "with zipfile.ZipFile(fpath, 'r') as zip_ref:\n",
    "    zip_ref.extractall('./')\n"
   ]
  },
  {
   "cell_type": "code",
   "execution_count": null,
   "id": "imported-winter",
   "metadata": {
    "ExecuteTime": {
     "end_time": "2023-05-03T04:36:11.316948Z",
     "start_time": "2023-05-03T04:35:56.834162Z"
    }
   },
   "outputs": [],
   "source": [
    "taxi_zones_gdf = gpd.read_file(\"taxi_zones.shp\")\n",
    "taxi_zones_gdf = taxi_zones_gdf.to_crs(4326)\n",
    "taxi_zones_df = pd.DataFrame(taxi_zones_gdf)"
   ]
  },
  {
   "cell_type": "code",
   "execution_count": null,
   "id": "available-certification",
   "metadata": {
    "ExecuteTime": {
     "end_time": "2023-05-03T04:36:11.324650Z",
     "start_time": "2023-05-03T04:35:36.479Z"
    }
   },
   "outputs": [],
   "source": [
    "taxi_zones_df"
   ]
  },
  {
   "cell_type": "code",
   "execution_count": null,
   "id": "unique-soviet",
   "metadata": {
    "ExecuteTime": {
     "end_time": "2023-05-03T04:36:11.326268Z",
     "start_time": "2023-05-03T04:35:36.482Z"
    }
   },
   "outputs": [],
   "source": [
    "taxi_zones_df['centroid'] = taxi_zones_df['geometry'].apply(lambda x: x.centroid)\n",
    "taxi_zones_df['longitude'] = taxi_zones_df['centroid'].apply(lambda x: x.x)\n",
    "taxi_zones_df['latitude'] = taxi_zones_df['centroid'].apply(lambda x: x.y)"
   ]
  },
  {
   "cell_type": "code",
   "execution_count": null,
   "id": "genetic-mentor",
   "metadata": {
    "ExecuteTime": {
     "end_time": "2023-05-03T04:36:11.327947Z",
     "start_time": "2023-05-03T04:35:36.486Z"
    }
   },
   "outputs": [],
   "source": [
    "taxi_zones_df.dtypes\n"
   ]
  },
  {
   "cell_type": "code",
   "execution_count": null,
   "id": "stopped-princess",
   "metadata": {
    "ExecuteTime": {
     "end_time": "2023-05-03T04:36:11.329285Z",
     "start_time": "2023-05-03T04:35:36.490Z"
    }
   },
   "outputs": [],
   "source": [
    "taxi_zones_spark_df = spark.createDataFrame(taxi_zones_df[['LocationID', 'longitude', 'latitude']])"
   ]
  },
  {
   "cell_type": "code",
   "execution_count": null,
   "id": "paperback-colorado",
   "metadata": {
    "ExecuteTime": {
     "end_time": "2023-05-03T04:36:11.331975Z",
     "start_time": "2023-05-03T04:35:36.494Z"
    }
   },
   "outputs": [],
   "source": [
    "taxi_zones_spark_df.select(\"longitude\", \"latitude\").describe().show()\n"
   ]
  },
  {
   "cell_type": "code",
   "execution_count": null,
   "id": "personal-arkansas",
   "metadata": {
    "ExecuteTime": {
     "end_time": "2023-05-03T04:36:11.333534Z",
     "start_time": "2023-05-03T04:35:36.499Z"
    }
   },
   "outputs": [],
   "source": [
    "def associating_Pickup_Dropoff_Location_IDs_with_Longitude_Latitude(df):\n",
    "    if 'pickup_longitude' not in df.columns and 'pickup_latitude' not in df.columns:    \n",
    "        df = df.join(\n",
    "            broadcast(taxi_zones_spark_df),\n",
    "            df[\"PULocationID\"] == taxi_zones_spark_df[\"LocationID\"],\n",
    "            \"left\"\n",
    "        ).withColumnRenamed(\"longitude\", \"pickup_longitude\") \\\n",
    "            .withColumnRenamed(\"latitude\", \"pickup_latitude\") \\\n",
    "            .drop(\"LocationID\")\n",
    "    if 'dropoff_longitude' not in df.columns and 'dropoff_latitude' not in df.columns:\n",
    "        df = df.join(\n",
    "            broadcast(taxi_zones_spark_df),\n",
    "            df[\"DOLocationID\"] == taxi_zones_spark_df[\"LocationID\"],\n",
    "            \"left\"\n",
    "        ).withColumnRenamed(\"longitude\", \"dropoff_longitude\") \\\n",
    "            .withColumnRenamed(\"latitude\", \"dropoff_latitude\") \\\n",
    "            .drop(\"LocationID\")\n",
    "    return df"
   ]
  },
  {
   "cell_type": "markdown",
   "id": "furnished-joyce",
   "metadata": {},
   "source": [
    "The following longitudes and lattitudes encompass Newark and JFK airports, Northern Man-\n",
    "hattan and Verazzano bridge."
   ]
  },
  {
   "cell_type": "code",
   "execution_count": null,
   "id": "inner-vatican",
   "metadata": {
    "ExecuteTime": {
     "end_time": "2023-05-03T04:36:11.335209Z",
     "start_time": "2023-05-03T04:35:36.502Z"
    }
   },
   "outputs": [],
   "source": [
    "long_min = -74.10\n",
    "long_max = -73.70\n",
    "lat_min = 40.58\n",
    "lat_max = 40.90"
   ]
  },
  {
   "cell_type": "markdown",
   "id": "affecting-validation",
   "metadata": {},
   "source": [
    "# Invesitage the data of April 2019 for yellow taxis"
   ]
  },
  {
   "cell_type": "code",
   "execution_count": null,
   "id": "protected-complex",
   "metadata": {
    "ExecuteTime": {
     "end_time": "2023-05-03T04:36:11.336571Z",
     "start_time": "2023-05-03T04:35:36.506Z"
    }
   },
   "outputs": [],
   "source": [
    "df_04_19 =  dfs[(2019,4,'yellow')]\n",
    "df_04_20 =  dfs[(2020,4,'yellow')]"
   ]
  },
  {
   "cell_type": "markdown",
   "id": "finnish-college",
   "metadata": {},
   "source": [
    "## Associating Taxi Ride Pickup and Dropoff Location IDs with Longitude and Latitude Coordinates"
   ]
  },
  {
   "cell_type": "code",
   "execution_count": null,
   "id": "premier-terrorist",
   "metadata": {
    "ExecuteTime": {
     "end_time": "2023-05-03T04:36:11.338021Z",
     "start_time": "2023-05-03T04:35:36.510Z"
    }
   },
   "outputs": [],
   "source": [
    "df_04_19 = associating_Pickup_Dropoff_Location_IDs_with_Longitude_Latitude(df_04_19)\n",
    "df_04_20 = associating_Pickup_Dropoff_Location_IDs_with_Longitude_Latitude(df_04_20)"
   ]
  },
  {
   "cell_type": "code",
   "execution_count": null,
   "id": "arbitrary-calendar",
   "metadata": {
    "ExecuteTime": {
     "end_time": "2023-05-03T04:36:11.339870Z",
     "start_time": "2023-05-03T04:35:36.513Z"
    }
   },
   "outputs": [],
   "source": [
    "type(df_04_20)"
   ]
  },
  {
   "cell_type": "markdown",
   "id": "fancy-awareness",
   "metadata": {},
   "source": [
    "1. Using boundaries defined previously, let's filter the 2019 april data (using pickup and dropoff longitude and\n",
    "latitude) and count the number of trips for each value of passenger_count and make a\n",
    "plot of that."
   ]
  },
  {
   "cell_type": "code",
   "execution_count": null,
   "id": "threaded-consideration",
   "metadata": {
    "ExecuteTime": {
     "end_time": "2023-05-03T04:36:11.341864Z",
     "start_time": "2023-05-03T04:35:36.517Z"
    }
   },
   "outputs": [],
   "source": [
    "def total_trips_by_passenger_count(df):\n",
    "            return (df\n",
    "               .filter(\n",
    "                        (col('pickup_longitude') >= long_min) & (col('pickup_longitude') <= long_max) &\n",
    "                        (col('pickup_latitude') >= lat_min) & (col('pickup_latitude') <= lat_max) &\n",
    "                        (col('dropoff_longitude') >= long_min) & (col('dropoff_longitude') <= long_max) &\n",
    "                        (col('dropoff_latitude') >= lat_min) & (col('dropoff_latitude') <= lat_max))\n",
    "               .groupBy(\"passenger_count\").agg(F.count(\"*\").alias(\"trip_counts\"))\n",
    "              )\n",
    "def plot_total_trips_by_passenger_count(df,date):\n",
    "    total_trips_by_passenger_count_Pandas= df.toPandas()\n",
    "    plt.bar(total_trips_by_passenger_count_Pandas.passenger_count, total_trips_by_passenger_count_Pandas.trip_counts)\n",
    "    plt.xlabel('Passenger Count')\n",
    "    plt.ylabel('Number of Trips')\n",
    "    plt.title(f\"Total Trips by Passenger Count of {date}\")\n",
    "    plt.show()"
   ]
  },
  {
   "cell_type": "code",
   "execution_count": null,
   "id": "completed-revision",
   "metadata": {
    "ExecuteTime": {
     "end_time": "2023-05-03T04:36:11.343303Z",
     "start_time": "2023-05-03T04:35:36.521Z"
    }
   },
   "outputs": [],
   "source": [
    "total_Trips_by_Passenger_Count_of_04_19 = total_trips_by_passenger_count(df_04_19)"
   ]
  },
  {
   "cell_type": "code",
   "execution_count": null,
   "id": "immediate-capacity",
   "metadata": {
    "ExecuteTime": {
     "end_time": "2023-05-03T04:36:11.345518Z",
     "start_time": "2023-05-03T04:35:36.523Z"
    }
   },
   "outputs": [],
   "source": [
    "total_Trips_by_Passenger_Count_of_04_20 = total_trips_by_passenger_count(df_04_20)"
   ]
  },
  {
   "cell_type": "code",
   "execution_count": null,
   "id": "boring-topic",
   "metadata": {
    "ExecuteTime": {
     "end_time": "2023-05-03T04:36:11.347077Z",
     "start_time": "2023-05-03T04:35:36.527Z"
    }
   },
   "outputs": [],
   "source": [
    "total_Trips_by_Passenger_Count_of_04_19.show()\n",
    "plot_total_trips_by_passenger_count(total_Trips_by_Passenger_Count_of_04_19,\"April 2019\")\n",
    "total_Trips_by_Passenger_Count_of_04_20.show()\n",
    "plot_total_trips_by_passenger_count(total_Trips_by_Passenger_Count_of_04_20,\"April 2020\")"
   ]
  },
  {
   "cell_type": "markdown",
   "id": "forty-privacy",
   "metadata": {},
   "source": [
    "Trips with 0 or larger than 7 passengers are pretty rare. We suspect these to be outliers. We\n",
    "need to explore these trips further in order order to understand what might be wrong with\n",
    "them\n",
    "1. What’s special with trips with zero passengers?"
   ]
  },
  {
   "cell_type": "code",
   "execution_count": null,
   "id": "integral-greene",
   "metadata": {
    "ExecuteTime": {
     "end_time": "2023-05-03T04:36:11.348737Z",
     "start_time": "2023-05-03T04:35:36.532Z"
    }
   },
   "outputs": [],
   "source": [
    "trips_zero_passengers = df_04_19.filter(col(\"passenger_count\") == 0)"
   ]
  },
  {
   "cell_type": "code",
   "execution_count": null,
   "id": "usual-thread",
   "metadata": {
    "ExecuteTime": {
     "end_time": "2023-05-03T04:36:11.350142Z",
     "start_time": "2023-05-03T04:35:36.536Z"
    }
   },
   "outputs": [],
   "source": [
    "trips_zero_passengers.toPandas().describe()"
   ]
  },
  {
   "cell_type": "markdown",
   "id": "constitutional-lawyer",
   "metadata": {},
   "source": [
    "2.What's special with trips with more than 6 passengers?"
   ]
  },
  {
   "cell_type": "code",
   "execution_count": null,
   "id": "rational-march",
   "metadata": {
    "ExecuteTime": {
     "end_time": "2023-05-03T04:36:11.351642Z",
     "start_time": "2023-05-03T04:35:36.541Z"
    }
   },
   "outputs": [],
   "source": [
    "trips_more_6_passengers = df_04_19.filter(col(\"passenger_count\") > 6)"
   ]
  },
  {
   "cell_type": "code",
   "execution_count": null,
   "id": "thrown-morocco",
   "metadata": {
    "ExecuteTime": {
     "end_time": "2023-05-03T04:36:11.353653Z",
     "start_time": "2023-05-03T04:35:36.544Z"
    }
   },
   "outputs": [],
   "source": [
    "trips_more_6_passengers"
   ]
  },
  {
   "cell_type": "markdown",
   "id": "announced-galaxy",
   "metadata": {},
   "source": [
    "3. What is the largest distance travelled during this month? "
   ]
  },
  {
   "cell_type": "code",
   "execution_count": null,
   "id": "enhanced-harvest",
   "metadata": {
    "ExecuteTime": {
     "end_time": "2023-05-03T04:36:11.355461Z",
     "start_time": "2023-05-03T04:35:36.549Z"
    }
   },
   "outputs": [],
   "source": [
    "df_04_19.select(F.max('trip_distance')).show()"
   ]
  },
  {
   "cell_type": "markdown",
   "id": "distinct-press",
   "metadata": {},
   "source": [
    "Is it the first taxi on the moon? so close!"
   ]
  },
  {
   "cell_type": "code",
   "execution_count": null,
   "id": "harmful-norwegian",
   "metadata": {
    "ExecuteTime": {
     "end_time": "2023-05-03T04:36:11.357132Z",
     "start_time": "2023-05-03T04:35:36.553Z"
    }
   },
   "outputs": [],
   "source": [
    "df_04_20.select(F.max('trip_distance')).show()"
   ]
  },
  {
   "cell_type": "markdown",
   "id": "surprised-pendant",
   "metadata": {},
   "source": [
    "4.Plot the distribution of the trip_distance (using an histogram for instance) during year\n",
    "2019. Focus on trips with non-zero trip distance and trip distance less than 30 miles."
   ]
  },
  {
   "cell_type": "code",
   "execution_count": null,
   "id": "owned-details",
   "metadata": {
    "ExecuteTime": {
     "end_time": "2023-05-03T04:36:11.359258Z",
     "start_time": "2023-05-03T04:35:36.557Z"
    }
   },
   "outputs": [],
   "source": [
    "trip_distance_df = df_04_19.filter((col(\"trip_distance\") > 0)&(col(\"trip_distance\")<30))\n",
    "trip_distance_df.explain(True)"
   ]
  },
  {
   "cell_type": "code",
   "execution_count": null,
   "id": "universal-vermont",
   "metadata": {
    "ExecuteTime": {
     "end_time": "2023-05-03T04:36:11.363418Z",
     "start_time": "2023-05-03T04:35:36.561Z"
    }
   },
   "outputs": [],
   "source": [
    "sampled_df = trip_distance_df.sample(False, 0.1) # \n",
    "\n",
    "trip_distances = sampled_df.select(\"trip_distance\").rdd.flatMap(lambda x: x).collect()\n",
    "\n",
    "plt.hist(trip_distances, bins=50, color=\"blue\", edgecolor=\"black\")\n",
    "plt.title(\"Distribution of Trip Distances April 2019\")\n",
    "plt.xlabel(\"Trip Distance (miles)\")\n",
    "plt.ylabel(\"Frequency\")\n",
    "plt.show()"
   ]
  },
  {
   "cell_type": "markdown",
   "id": "annoying-string",
   "metadata": {},
   "source": [
    "Let’s look at what Spark does for these computations\n",
    "1. Use the explain method or have a look at the Spark UI to analyze the job. You should\n",
    "be able to assess\n",
    "• Parsed Logical Plan\n",
    "• Analyzed Logical Plan\n",
    "• Optimized Logical Plan\n",
    "• Physical Plan\n",
    "2. Do the Analyzed Logical Plan and Optimized Logical Plan differ? Spot the differences\n",
    "if any. How would a RDBMS proceed with such a query?\n",
    "3. How does the physical plan differ from the Optimized Logical Plan? What are the\n",
    "keywords you would not expects in a RDBMS? What is their meaning?\n",
    "3\n",
    "4. Inspect the stages on Spark UI. How many stages are necessary to complete the Spark\n",
    "job? What are the roles of HashAggregate and Exchange hashpartitioning?\n",
    "5. Does the physical plan perform shuffle operations? If yes how many?\n",
    "6. What are tasks with respect to stages (in Spark language)? How many tasks are your\n",
    "stages made of?\n",
    "Now, compute the following and make relevant plots:\n",
    "1. Break down the trip distance distribution for each day of week\n",
    "2. Count the number of distinct pickup location\n",
    "3. Compute and display tips and profits as a function of the pickup location"
   ]
  },
  {
   "cell_type": "markdown",
   "id": "distinguished-strategy",
   "metadata": {},
   "source": [
    "# Investigate the data trips of APRIL in 2019, 2020, 2021, 2022 for yellow and fhv taxis"
   ]
  },
  {
   "cell_type": "markdown",
   "id": "deadly-combination",
   "metadata": {},
   "source": [
    "## preparing data"
   ]
  },
  {
   "cell_type": "markdown",
   "id": "selected-reduction",
   "metadata": {},
   "source": [
    "We will create a dictionary containing DataFrames, where each DataFrame includes the original data along with columns for pickup and dropoff coordinates (longitudes and latitudes), as well as the associated day of the week and hour of the day for each pickup. To improve processing performance, we will also partition the data by day of the week and hour of the day, and use cache() to store intermediate results for quicker access."
   ]
  },
  {
   "cell_type": "code",
   "execution_count": null,
   "id": "nuclear-algeria",
   "metadata": {
    "ExecuteTime": {
     "end_time": "2023-05-03T04:36:11.365600Z",
     "start_time": "2023-05-03T04:35:36.568Z"
    }
   },
   "outputs": [],
   "source": [
    "def add_day_and_hour_columns(df, taxi_type):\n",
    "    pickup_datetime_col = \"tpep_pickup_datetime\" if taxi_type == \"yellow\" else \"pickup_datetime\"\n",
    "    df = df.withColumn(\"day_of_week\", dayofweek(pickup_datetime_col)) \\\n",
    "           .withColumn(\"hour_of_day\", hour(pickup_datetime_col))\n",
    "    df = df.repartition(\"day_of_week\", \"hour_of_day\").cache()\n",
    "    return df\n"
   ]
  },
  {
   "cell_type": "code",
   "execution_count": null,
   "id": "fossil-toolbox",
   "metadata": {
    "ExecuteTime": {
     "end_time": "2023-05-03T04:36:11.367159Z",
     "start_time": "2023-05-03T04:35:36.571Z"
    }
   },
   "outputs": [],
   "source": [
    "df_yellow_12_2019 = add_day_and_hour_columns(associating_Pickup_Dropoff_Location_IDs_with_Longitude_Latitude(dfs[(2019,12,'yellow')]),'yellow')\n",
    "\n",
    "df_yellow_04_2019 = add_day_and_hour_columns(associating_Pickup_Dropoff_Location_IDs_with_Longitude_Latitude(dfs[(2019,4,'yellow')]),'yellow')\n",
    "df_yellow_04_2020 = add_day_and_hour_columns(associating_Pickup_Dropoff_Location_IDs_with_Longitude_Latitude(dfs[(2020,4,'yellow')]),'yellow')\n",
    "df_yellow_04_2021 = add_day_and_hour_columns(associating_Pickup_Dropoff_Location_IDs_with_Longitude_Latitude(dfs[(2021,4,'yellow')]),'yellow')\n",
    "df_yellow_04_2022 = add_day_and_hour_columns(associating_Pickup_Dropoff_Location_IDs_with_Longitude_Latitude(dfs[(2022,4,'yellow')]),'yellow')"
   ]
  },
  {
   "cell_type": "code",
   "execution_count": null,
   "id": "stainless-microwave",
   "metadata": {
    "ExecuteTime": {
     "end_time": "2023-05-03T04:36:11.369003Z",
     "start_time": "2023-05-03T04:35:36.575Z"
    }
   },
   "outputs": [],
   "source": [
    "df_fhv_04_2019 = add_day_and_hour_columns(associating_Pickup_Dropoff_Location_IDs_with_Longitude_Latitude(dfs[(2019,4,'fhv')]),'fhv')\n",
    "df_fhv_04_2020 = add_day_and_hour_columns(associating_Pickup_Dropoff_Location_IDs_with_Longitude_Latitude(dfs[(2020,4,'fhv')]),'fhv')\n",
    "df_fhv_04_2021 = add_day_and_hour_columns(associating_Pickup_Dropoff_Location_IDs_with_Longitude_Latitude(dfs[(2021,4,'fhv')]),'fhv')\n",
    "df_fhv_04_2022 = add_day_and_hour_columns(associating_Pickup_Dropoff_Location_IDs_with_Longitude_Latitude(dfs[(2022,4,'fhv')]),'fhv')"
   ]
  },
  {
   "cell_type": "code",
   "execution_count": null,
   "id": "federal-finnish",
   "metadata": {
    "ExecuteTime": {
     "end_time": "2023-05-03T04:36:11.370602Z",
     "start_time": "2023-05-03T04:35:36.579Z"
    }
   },
   "outputs": [],
   "source": [
    "data = {\n",
    "    2019: {'yellow': df_yellow_04_2019,'fhv': df_fhv_04_2019},\n",
    "    2020: {'yellow': df_yellow_04_2020,'fhv': df_fhv_04_2020},\n",
    "    2021: {'yellow': df_yellow_04_2021,'fhv': df_fhv_04_2021},\n",
    "    2022: {'yellow': df_yellow_04_2022,'fhv': df_fhv_04_2022},\n",
    "    2000: {'yellow': df_yellow_12_2019}\n",
    "}"
   ]
  },
  {
   "cell_type": "code",
   "execution_count": null,
   "id": "assumed-yahoo",
   "metadata": {
    "ExecuteTime": {
     "end_time": "2023-05-03T04:36:11.372384Z",
     "start_time": "2023-05-03T04:35:36.583Z"
    }
   },
   "outputs": [],
   "source": [
    "df_yellow_04_2019.printSchema()"
   ]
  },
  {
   "cell_type": "markdown",
   "id": "assigned-creator",
   "metadata": {},
   "source": [
    "## Assessing seasonalities and looking at time series"
   ]
  },
  {
   "cell_type": "markdown",
   "id": "ordered-muslim",
   "metadata": {},
   "source": [
    "### The number of pickups"
   ]
  },
  {
   "cell_type": "code",
   "execution_count": null,
   "id": "focused-disney",
   "metadata": {
    "ExecuteTime": {
     "end_time": "2023-05-03T04:36:11.376323Z",
     "start_time": "2023-05-03T04:35:36.591Z"
    }
   },
   "outputs": [],
   "source": [
    "def pickups_by_dow_hour(df):\n",
    "    result = df.groupBy('day_of_week', 'hour_of_day') \\\n",
    "               .agg(count('tpep_pickup_datetime').alias('num_pickups'))\\\n",
    "               .orderBy('day_of_week', 'hour_of_day')\n",
    "    return result"
   ]
  },
  {
   "cell_type": "code",
   "execution_count": null,
   "id": "gentle-enough",
   "metadata": {
    "ExecuteTime": {
     "end_time": "2023-05-03T04:36:11.378371Z",
     "start_time": "2023-05-03T04:35:36.595Z"
    }
   },
   "outputs": [],
   "source": [
    "def plot_pickups_by_day_and_hour(df,date,taxi_type):\n",
    "    # \n",
    "    df = df.toPandas()\n",
    "    fig = px.bar(df, x='hour_of_day', y='num_pickups', color='day_of_week', barmode='group', labels={'hour_of_day':'Hour of the day', 'num_pickups':'Number of pickups', 'day_of_week':'Day of the week'}, title=f'The number of pickups as a function of the day of the week and hour of day in {date} for {taxi_type} taxis')\n",
    "    fig.show()"
   ]
  },
  {
   "cell_type": "code",
   "execution_count": null,
   "id": "hired-spirituality",
   "metadata": {
    "ExecuteTime": {
     "end_time": "2023-05-03T04:36:11.379905Z",
     "start_time": "2023-05-03T04:35:36.599Z"
    },
    "scrolled": false
   },
   "outputs": [],
   "source": [
    "plot_pickups_by_day_and_hour(pickups_by_dow_hour(data[2019]['yellow']),'April 2019','yellow')"
   ]
  },
  {
   "cell_type": "code",
   "execution_count": null,
   "id": "compressed-affair",
   "metadata": {
    "ExecuteTime": {
     "end_time": "2023-05-03T04:36:11.381388Z",
     "start_time": "2023-05-03T04:35:36.603Z"
    }
   },
   "outputs": [],
   "source": [
    "plot_pickups_by_day_and_hour(pickups_by_dow_hour(data[2019]['fhv']),'April 2019','fhv')"
   ]
  },
  {
   "cell_type": "code",
   "execution_count": null,
   "id": "serious-sacrifice",
   "metadata": {
    "ExecuteTime": {
     "end_time": "2023-05-03T04:36:11.383020Z",
     "start_time": "2023-05-03T04:35:36.607Z"
    }
   },
   "outputs": [],
   "source": [
    "plot_pickups_by_day_and_hour(pickups_by_dow_hour(data[2020]['yellow']),'April 2020','yellow')"
   ]
  },
  {
   "cell_type": "code",
   "execution_count": null,
   "id": "british-wrong",
   "metadata": {
    "ExecuteTime": {
     "end_time": "2023-05-03T04:36:11.384616Z",
     "start_time": "2023-05-03T04:35:36.610Z"
    }
   },
   "outputs": [],
   "source": [
    "plot_pickups_by_day_and_hour(pickups_by_dow_hour(data[2020]['fhv']),'April 2020','fhv')"
   ]
  },
  {
   "cell_type": "code",
   "execution_count": null,
   "id": "olive-paint",
   "metadata": {
    "ExecuteTime": {
     "end_time": "2023-05-03T04:36:11.386880Z",
     "start_time": "2023-05-03T04:35:36.614Z"
    }
   },
   "outputs": [],
   "source": [
    "plot_pickups_by_day_and_hour(pickups_by_dow_hour(data[2021]['yellow']),'April 2021','yellow')"
   ]
  },
  {
   "cell_type": "code",
   "execution_count": null,
   "id": "surprised-tuition",
   "metadata": {
    "ExecuteTime": {
     "end_time": "2023-05-03T04:36:11.389163Z",
     "start_time": "2023-05-03T04:35:36.618Z"
    }
   },
   "outputs": [],
   "source": [
    "plot_pickups_by_day_and_hour(pickups_by_dow_hour(data[2021]['fhv']),'April 2021','fhv')"
   ]
  },
  {
   "cell_type": "code",
   "execution_count": null,
   "id": "northern-verse",
   "metadata": {
    "ExecuteTime": {
     "end_time": "2023-05-03T04:36:11.391054Z",
     "start_time": "2023-05-03T04:35:36.622Z"
    }
   },
   "outputs": [],
   "source": [
    "plot_pickups_by_day_and_hour(pickups_by_dow_hour(data[2022]['yellow']),'April 2022','yellow')\n"
   ]
  },
  {
   "cell_type": "code",
   "execution_count": null,
   "id": "harmful-worker",
   "metadata": {
    "ExecuteTime": {
     "end_time": "2023-05-03T04:36:11.393418Z",
     "start_time": "2023-05-03T04:35:36.625Z"
    }
   },
   "outputs": [],
   "source": [
    "plot_pickups_by_day_and_hour(pickups_by_dow_hour(data[2022]['fhv']),'April 2022','fhv')"
   ]
  },
  {
   "cell_type": "markdown",
   "id": "contemporary-noise",
   "metadata": {},
   "source": [
    "### The average fare"
   ]
  },
  {
   "cell_type": "markdown",
   "id": "perfect-settlement",
   "metadata": {},
   "source": [
    "----Missing data for fhv taxis---"
   ]
  },
  {
   "cell_type": "code",
   "execution_count": null,
   "id": "fleet-apollo",
   "metadata": {
    "ExecuteTime": {
     "end_time": "2023-05-03T04:36:11.395305Z",
     "start_time": "2023-05-03T04:35:36.631Z"
    }
   },
   "outputs": [],
   "source": [
    "def avg_fare_by_dow_hour(df):\n",
    "    result = df.groupBy('day_of_week', 'hour_of_day') \\\n",
    "               .agg(avg('fare_amount').alias('average_fare')) \\\n",
    "               .orderBy('day_of_week', 'hour_of_day')\n",
    "    return result"
   ]
  },
  {
   "cell_type": "code",
   "execution_count": null,
   "id": "threatened-receiver",
   "metadata": {
    "ExecuteTime": {
     "end_time": "2023-05-03T04:36:11.397129Z",
     "start_time": "2023-05-03T04:35:36.635Z"
    }
   },
   "outputs": [],
   "source": [
    "def plot_avg_fare_by_dow_hour(df,date,taxi_type):\n",
    "    df = df.toPandas()\n",
    "    fig = px.bar(df, x='hour_of_day', y='average_fare', color='day_of_week', barmode='group', labels={'hour_of_day':'Hour of the day', 'average_fare':'average fare', 'day_of_week':'Day of the week'}, title=f'The avg fare as a function of the day of the week and hour of day in {date} for {taxi_type} taxis')\n",
    "    fig.show()"
   ]
  },
  {
   "cell_type": "code",
   "execution_count": null,
   "id": "searching-harvest",
   "metadata": {
    "ExecuteTime": {
     "end_time": "2023-05-03T04:36:11.398941Z",
     "start_time": "2023-05-03T04:35:36.638Z"
    }
   },
   "outputs": [],
   "source": [
    "plot_avg_fare_by_dow_hour(avg_fare_by_dow_hour(data[2019]['yellow']),'April 2019','yellow')"
   ]
  },
  {
   "cell_type": "code",
   "execution_count": null,
   "id": "dedicated-consistency",
   "metadata": {
    "ExecuteTime": {
     "end_time": "2023-05-03T04:36:11.400682Z",
     "start_time": "2023-05-03T04:35:36.641Z"
    }
   },
   "outputs": [],
   "source": [
    "plot_avg_fare_by_dow_hour(avg_fare_by_dow_hour(data[2019]['yellow']),'April 2019','yellow')"
   ]
  },
  {
   "cell_type": "code",
   "execution_count": null,
   "id": "burning-sierra",
   "metadata": {
    "ExecuteTime": {
     "end_time": "2023-05-03T04:36:11.402316Z",
     "start_time": "2023-05-03T04:35:36.644Z"
    }
   },
   "outputs": [],
   "source": [
    "plot_avg_fare_by_dow_hour(avg_fare_by_dow_hour(data[2020]['yellow']),'April 2020','yellow')"
   ]
  },
  {
   "cell_type": "code",
   "execution_count": null,
   "id": "ordinary-consultation",
   "metadata": {
    "ExecuteTime": {
     "end_time": "2023-05-03T04:36:11.408499Z",
     "start_time": "2023-05-03T04:35:36.648Z"
    }
   },
   "outputs": [],
   "source": [
    "plot_avg_fare_by_dow_hour(avg_fare_by_dow_hour(data[2021]['yellow']),'April 2021','yellow')"
   ]
  },
  {
   "cell_type": "code",
   "execution_count": null,
   "id": "wireless-fight",
   "metadata": {
    "ExecuteTime": {
     "end_time": "2023-05-03T04:36:11.410496Z",
     "start_time": "2023-05-03T04:35:36.651Z"
    }
   },
   "outputs": [],
   "source": [
    "plot_avg_fare_by_dow_hour(avg_fare_by_dow_hour(data[2022]['yellow']),'April 2022','yellow')"
   ]
  },
  {
   "cell_type": "markdown",
   "id": "moderate-barrel",
   "metadata": {},
   "source": [
    "### The average trip duration"
   ]
  },
  {
   "cell_type": "code",
   "execution_count": null,
   "id": "operating-chance",
   "metadata": {
    "ExecuteTime": {
     "end_time": "2023-05-03T04:36:11.412312Z",
     "start_time": "2023-05-03T04:35:36.655Z"
    }
   },
   "outputs": [],
   "source": [
    "def avg_duration_by_dow_hour(df):\n",
    "    df = df.withColumn(\"duration\", (unix_timestamp(\"tpep_dropoff_datetime\") - unix_timestamp(\"tpep_pickup_datetime\")) / 60)\n",
    "    result = df.groupBy('day_of_week', 'hour_of_day') \\\n",
    "               .agg(avg('duration').alias('average_duration')) \\\n",
    "               .orderBy('day_of_week', 'hour_of_day')\n",
    "    return result"
   ]
  },
  {
   "cell_type": "code",
   "execution_count": null,
   "id": "experienced-atlanta",
   "metadata": {
    "ExecuteTime": {
     "end_time": "2023-05-03T04:36:11.413845Z",
     "start_time": "2023-05-03T04:35:36.659Z"
    }
   },
   "outputs": [],
   "source": [
    "def plot_avg_duration_by_dow_hour(df,date,taxi_type):\n",
    "    df = df.toPandas()\n",
    "    fig = px.bar(df, x='hour_of_day', y='average_duration', color='day_of_week', barmode='group', labels={'hour_of_day':'Hour of the day', 'average_duration':'average duration', 'day_of_week':'Day of the week'}, title=f'The average duration as a function of the day of the week and hour of day in {date} for {taxi_type} taxis')\n",
    "    fig.show()"
   ]
  },
  {
   "cell_type": "code",
   "execution_count": null,
   "id": "sweet-lotus",
   "metadata": {
    "ExecuteTime": {
     "end_time": "2023-05-03T04:36:11.415766Z",
     "start_time": "2023-05-03T04:35:36.662Z"
    }
   },
   "outputs": [],
   "source": [
    "plot_avg_duration_by_dow_hour(avg_duration_by_dow_hour(data[2019]['yellow']),'April 2019','yellow')"
   ]
  },
  {
   "cell_type": "markdown",
   "id": "considered-resistance",
   "metadata": {},
   "source": [
    "### The average of ongoing trips"
   ]
  },
  {
   "cell_type": "code",
   "execution_count": null,
   "id": "valuable-click",
   "metadata": {},
   "outputs": [],
   "source": []
  },
  {
   "cell_type": "markdown",
   "id": "urban-offering",
   "metadata": {},
   "source": [
    "## Rides to the airports"
   ]
  },
  {
   "cell_type": "code",
   "execution_count": null,
   "id": "empty-twelve",
   "metadata": {
    "ExecuteTime": {
     "end_time": "2023-05-03T04:36:11.417441Z",
     "start_time": "2023-05-03T04:35:36.668Z"
    }
   },
   "outputs": [],
   "source": [
    "midtown = {'lon_min':-74.01, 'lon_max':-73.96, 'lat_min':40.73, 'lat_max':40.78}\n",
    "jfk = {'lon_min':-73.84, 'lon_max':-73.75, 'lat_min':40.61, 'lat_max':40.67}\n",
    "newark = {'lon_min':-74.21, 'lon_max':-74.14, 'lat_min':40.66, 'lat_max':40.72}\n",
    "laguardia = {'lon_min':-73.90, 'lon_max':-73.85, 'lat_min':40.76, 'lat_max':40.79}"
   ]
  },
  {
   "cell_type": "code",
   "execution_count": null,
   "id": "qualified-announcement",
   "metadata": {
    "ExecuteTime": {
     "end_time": "2023-05-03T04:36:11.419310Z",
     "start_time": "2023-05-03T04:35:36.672Z"
    }
   },
   "outputs": [],
   "source": [
    "\n",
    "def median_trip_duration(df, pickup_bounds, dropoff_bounds):\n",
    "    filtered_df = df.filter(\n",
    "        (col(\"pickup_longitude\") >= pickup_bounds[\"lon_min\"]) &\n",
    "        (col(\"pickup_longitude\") <= pickup_bounds[\"lon_max\"]) &\n",
    "        (col(\"pickup_latitude\") >= pickup_bounds[\"lat_min\"]) &\n",
    "        (col(\"pickup_latitude\") <= pickup_bounds[\"lat_max\"]) &\n",
    "        (col(\"dropoff_longitude\") >= dropoff_bounds[\"lon_min\"]) &\n",
    "        (col(\"dropoff_longitude\") <= dropoff_bounds[\"lon_max\"]) &\n",
    "        (col(\"dropoff_latitude\") >= dropoff_bounds[\"lat_min\"]) &\n",
    "        (col(\"dropoff_latitude\") <= dropoff_bounds[\"lat_max\"])\n",
    "    )\n",
    "\n",
    "    result = (\n",
    "        filtered_df\n",
    "        .withColumn('duration', (unix_timestamp(\"tpep_dropoff_datetime\") - unix_timestamp(\"tpep_pickup_datetime\")) / 60)\n",
    "        .groupBy('day_of_week', 'hour_of_day')\n",
    "        .agg(F.expr(\"percentile_approx(duration, 0.5)\").alias(\"median_duration\"))\n",
    "        .orderBy('day_of_week', 'hour_of_day')\n",
    "    )\n",
    "\n",
    "\n",
    "    return result"
   ]
  },
  {
   "cell_type": "markdown",
   "id": "casual-instruction",
   "metadata": {},
   "source": [
    "###  Median duration of taxi trip leaving Midtown (Southern Manhattan) headed for JFK Airport"
   ]
  },
  {
   "cell_type": "code",
   "execution_count": null,
   "id": "interim-affair",
   "metadata": {
    "ExecuteTime": {
     "end_time": "2023-05-03T04:36:11.421153Z",
     "start_time": "2023-05-03T04:35:36.676Z"
    }
   },
   "outputs": [],
   "source": [
    "d = median_trip_duration(data[2019]['yellow'], midtown, jfk)\n",
    "df = d.toPandas()\n",
    "fig = px.bar(df, x='hour_of_day', y='median_duration', color='day_of_week', labels={'hour_of_day':'Hour of the day', 'median_duration':'median duration', 'day_of_week':'Day of the week'})\n",
    "fig.show()"
   ]
  },
  {
   "cell_type": "markdown",
   "id": "committed-macintosh",
   "metadata": {},
   "source": [
    "### Median taxi duration of trip leaving from JFK Airport to Midtown (Southern Manhattan)"
   ]
  },
  {
   "cell_type": "code",
   "execution_count": null,
   "id": "radio-sodium",
   "metadata": {
    "ExecuteTime": {
     "end_time": "2023-05-03T04:36:11.423021Z",
     "start_time": "2023-05-03T04:35:36.680Z"
    }
   },
   "outputs": [],
   "source": [
    "d = median_trip_duration(data[2019]['yellow'], jfk, midtown)\n",
    "df = d.toPandas()\n",
    "fig = px.bar(df, x='hour_of_day', y='median_duration', color='day_of_week', labels={'hour_of_day':'Hour of the day', 'median_duration':'median duration', 'day_of_week':'Day of the week'})\n",
    "fig.show()"
   ]
  },
  {
   "cell_type": "markdown",
   "id": "gross-equality",
   "metadata": {},
   "source": [
    "## Geographic information"
   ]
  },
  {
   "cell_type": "markdown",
   "id": "academic-armenia",
   "metadata": {},
   "source": [
    "### a heatmap where color is a function of number of pickups, number of dropoffs and number of pickups with dropoff at some airport (JFK, LaGuardia, Newark)"
   ]
  },
  {
   "cell_type": "code",
   "execution_count": null,
   "id": "addressed-sugar",
   "metadata": {
    "ExecuteTime": {
     "end_time": "2023-05-03T04:36:11.424795Z",
     "start_time": "2023-05-03T04:35:36.684Z"
    }
   },
   "outputs": [],
   "source": [
    "def pickups_count(df):\n",
    "    result = df.groupBy('PULocationID').agg(count('*').alias('num_pickups'))\n",
    "    return result.toPandas()\n",
    "def dropoff_count(df):\n",
    "    result = df.groupBy('DOLocationID').agg(count('*').alias('num_dropoff'))\n",
    "    return result.toPandas()\n",
    "def pickups_dropoff_airport(df):\n",
    "    result = (df\n",
    "              .where(((jfk['lat_min'] <= col(\"dropoff_longitude\")) & (col(\"dropoff_longitude\") <= jfk['lat_max'])\n",
    "                      &(jfk['lon_min'] <= col(\"dropoff_longitude\")) & (col(\"dropoff_longitude\") <= jfk['lon_max']))\n",
    "                    |((newark['lat_min'] <= col(\"dropoff_longitude\")) & (col(\"dropoff_longitude\") <= newark['lat_max'])\n",
    "                      &(newark['lon_min'] <= col(\"dropoff_longitude\")) & (col(\"dropoff_longitude\") <= newark['lon_max']))\n",
    "                    |((laguardia['lat_min'] <= col(\"dropoff_longitude\")) & (col(\"dropoff_longitude\") <= laguardia['lat_max'])\n",
    "                      &(laguardia['lon_min'] <= col(\"dropoff_longitude\")) & (col(\"dropoff_longitude\") <= laguardia['lon_max'])))\n",
    "              .groupBy('PULocationID')\n",
    "              .agg(count('*').alias('num_pickups_dropoff_airport'))\n",
    "             )\n",
    "    return result.toPandas()"
   ]
  },
  {
   "cell_type": "code",
   "execution_count": null,
   "id": "regional-milton",
   "metadata": {
    "ExecuteTime": {
     "end_time": "2023-05-03T03:35:09.665361Z",
     "start_time": "2023-05-03T03:34:59.951833Z"
    }
   },
   "outputs": [],
   "source": []
  },
  {
   "cell_type": "code",
   "execution_count": null,
   "id": "knowing-woman",
   "metadata": {
    "ExecuteTime": {
     "end_time": "2023-05-03T04:36:11.427062Z",
     "start_time": "2023-05-03T04:35:36.690Z"
    }
   },
   "outputs": [],
   "source": [
    "pickups_df = pickups_count(data[2019]['yellow'])\n",
    "dropoffs_df = dropoff_count(data[2019]['yellow'])\n",
    "airport_pickups_df = pickups_dropoff_airport(data[2019]['yellow'])\n",
    "pickups_df.dtypes\n",
    "pickups_map = taxi_zones_df.merge(pickups_df, left_on='LocationID', right_on='PULocationID')\n",
    "dropoffs_map = taxi_zones_df.merge(dropoffs_df, left_on='LocationID', right_on='DOLocationID')\n",
    "airport_pickups_map = taxi_zones_df.merge(airport_pickups_df, left_on='LocationID', right_on='PULocationID')\n",
    "\n",
    "\n",
    "pickups_map.dtypes"
   ]
  },
  {
   "cell_type": "code",
   "execution_count": null,
   "id": "changed-clinic",
   "metadata": {
    "ExecuteTime": {
     "end_time": "2023-05-03T04:36:11.428959Z",
     "start_time": "2023-05-03T04:35:36.694Z"
    }
   },
   "outputs": [],
   "source": [
    "\n"
   ]
  },
  {
   "cell_type": "markdown",
   "id": "vital-portable",
   "metadata": {},
   "source": [
    "## Covid impact"
   ]
  },
  {
   "cell_type": "code",
   "execution_count": null,
   "id": "photographic-bruce",
   "metadata": {
    "ExecuteTime": {
     "end_time": "2023-05-03T04:46:10.506275Z",
     "start_time": "2023-05-03T04:46:10.495763Z"
    }
   },
   "outputs": [],
   "source": [
    "m = [1,2,3,4,5,6,7]\n",
    "for month in m:\n",
    "    download_taxi_data(2020, month,'yellow')"
   ]
  },
  {
   "cell_type": "code",
   "execution_count": null,
   "id": "known-marking",
   "metadata": {
    "ExecuteTime": {
     "end_time": "2023-05-03T04:46:11.164070Z",
     "start_time": "2023-05-03T04:46:10.727508Z"
    },
    "scrolled": true
   },
   "outputs": [],
   "source": [
    "\n",
    "for month in m:\n",
    "    filename = f\"yellow_tripdata_2020-{month:02d}.parquet\"\n",
    "    df = spark.read.parquet(filename)\n",
    "    dfs[(2020, month, 'yellow')] = df\n",
    "    \n"
   ]
  },
  {
   "cell_type": "code",
   "execution_count": null,
   "id": "prime-tactics",
   "metadata": {
    "ExecuteTime": {
     "end_time": "2023-05-03T04:46:11.211217Z",
     "start_time": "2023-05-03T04:46:11.166709Z"
    }
   },
   "outputs": [],
   "source": [
    "union_df = dfs[(2020, m[0], 'yellow')]\n",
    "for month in m[1:]:\n",
    "    union_df = union_df.union(dfs[(2020, month, 'yellow')])"
   ]
  },
  {
   "cell_type": "code",
   "execution_count": null,
   "id": "looking-league",
   "metadata": {
    "ExecuteTime": {
     "end_time": "2023-05-03T04:46:12.088702Z",
     "start_time": "2023-05-03T04:46:11.214200Z"
    }
   },
   "outputs": [],
   "source": [
    "union_df.show(5)"
   ]
  },
  {
   "cell_type": "code",
   "execution_count": null,
   "id": "filled-conservation",
   "metadata": {
    "ExecuteTime": {
     "end_time": "2023-05-03T05:06:34.537396Z",
     "start_time": "2023-05-03T05:06:34.472495Z"
    }
   },
   "outputs": [],
   "source": [
    "\n",
    "\n",
    "df_by_day = union_df.groupBy(date_format('tpep_pickup_datetime', 'yyyy-MM-dd').alias('date')) \\\n",
    "                  .agg(count('*').alias('num_trips')) \\\n",
    "                  .orderBy('date')\n",
    "\n",
    "pdf_by_day = df_by_day.toPandas()\n",
    "pdf_by_day[\"date\"] = pd.to_datetime(pdf_by_day[\"date\"])"
   ]
  },
  {
   "cell_type": "code",
   "execution_count": null,
   "id": "democratic-dining",
   "metadata": {
    "ExecuteTime": {
     "end_time": "2023-05-03T05:05:13.035568Z",
     "start_time": "2023-05-03T05:05:12.669224Z"
    }
   },
   "outputs": [],
   "source": [
    "ax = pdf_by_day.plot(x=\"date\", y=\"num_trips\", kind=\"line\", figsize=(12, 6), title=\"Number of Trips by Day\")\n",
    "plt.axvline(x='2020-03-21', color='r', linestyle='--', label='Covid lockdown')\n",
    "ax.set_xlim('2020-01-01','2020-06-30')\n",
    "plt.legend()\n",
    "plt.show()\n"
   ]
  },
  {
   "cell_type": "code",
   "execution_count": null,
   "id": "indie-pursuit",
   "metadata": {
    "ExecuteTime": {
     "end_time": "2023-05-03T05:05:47.551617Z",
     "start_time": "2023-05-03T05:05:47.537384Z"
    }
   },
   "outputs": [],
   "source": [
    "def list_all_active_dataframes():\n",
    "    return [obj for obj in globals().values() if isinstance(obj, DataFrame)]\n",
    "\n",
    "def uncache_all_dataframes():\n",
    "    for df in list_all_active_dataframes():\n",
    "        if df.storageLevel.useMemory:\n",
    "            df.unpersist()\n",
    "\n",
    "uncache_all_dataframes()"
   ]
  },
  {
   "cell_type": "code",
   "execution_count": null,
   "id": "surface-spiritual",
   "metadata": {
    "ExecuteTime": {
     "end_time": "2023-05-03T05:06:19.821580Z",
     "start_time": "2023-05-03T05:06:19.196107Z"
    }
   },
   "outputs": [],
   "source": [
    "spark.stop()"
   ]
  }
 ],
 "metadata": {
  "kernelspec": {
   "display_name": "Python 3",
   "language": "python",
   "name": "python3"
  },
  "language_info": {
   "codemirror_mode": {
    "name": "ipython",
    "version": 3
   },
   "file_extension": ".py",
   "mimetype": "text/x-python",
   "name": "python",
   "nbconvert_exporter": "python",
   "pygments_lexer": "ipython3",
   "version": "3.8.5"
  },
  "toc": {
   "base_numbering": 1,
   "nav_menu": {},
   "number_sections": true,
   "sideBar": true,
   "skip_h1_title": false,
   "title_cell": "Table of Contents",
   "title_sidebar": "Contents",
   "toc_cell": false,
   "toc_position": {},
   "toc_section_display": true,
   "toc_window_display": false
  }
 },
 "nbformat": 4,
 "nbformat_minor": 5
}
